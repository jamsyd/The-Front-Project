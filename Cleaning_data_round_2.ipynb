{
 "cells": [
  {
   "cell_type": "markdown",
   "metadata": {},
   "source": [
    "# Section #2: This round of cleaning will just remove the rows if there is a value of N/A in it\n",
    "* In this file we compile the data from different years\n",
    "* We remove the duplicates \n",
    "* We remove missing values i.e. rows containing \"N/A\""
   ]
  },
  {
   "cell_type": "code",
   "execution_count": 1,
   "metadata": {},
   "outputs": [],
   "source": [
    "import csv "
   ]
  },
  {
   "cell_type": "code",
   "execution_count": 2,
   "metadata": {},
   "outputs": [
    {
     "name": "stdout",
     "output_type": "stream",
     "text": [
      "We now have 58014 rows in our dataset\n"
     ]
    }
   ],
   "source": [
    "f = open('Cleaning_Round_1.csv',encoding=\"UTF-8\")\n",
    "csv_f=csv.reader(f) \n",
    "\n",
    "keep_these_rows = []\n",
    "\n",
    "# Working out which rows have values we don't want / can't deal with (Rows with missing data)\n",
    "for row in csv_f:\n",
    "    i = 0\n",
    "    count = 0\n",
    "    while i < len(row):\n",
    "        if row[i] == \"N/A\" or row[i] == \"\":\n",
    "            count = count + 1\n",
    "        i +=1\n",
    "    if count ==0:\n",
    "        keep_these_rows.append(row)\n",
    "\n",
    "# How many rows are we actually keeping\n",
    "print(\"We now have \" + str(len(keep_these_rows)) + \" rows in our dataset\")\n",
    "\n",
    "# Writing to our program\n",
    "with open('Cleaning_Round_2.csv', 'w', newline='') as f:\n",
    "    writer = csv.writer(f)\n",
    "    writer.writerows(keep_these_rows)"
   ]
  }
 ],
 "metadata": {
  "interpreter": {
   "hash": "d6ac9b94c2aea5094666a55dcf52ea582903ddc341d44ee341b44364e0b625c0"
  },
  "kernelspec": {
   "display_name": "Python 3.9.5 64-bit",
   "name": "python3"
  },
  "language_info": {
   "codemirror_mode": {
    "name": "ipython",
    "version": 3
   },
   "file_extension": ".py",
   "mimetype": "text/x-python",
   "name": "python",
   "nbconvert_exporter": "python",
   "pygments_lexer": "ipython3",
   "version": "3.9.5"
  },
  "orig_nbformat": 4
 },
 "nbformat": 4,
 "nbformat_minor": 2
}
