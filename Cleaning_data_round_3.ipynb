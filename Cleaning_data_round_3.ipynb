{
 "cells": [
  {
   "cell_type": "markdown",
   "metadata": {},
   "source": [
    "# Part #3: Working out which rows have values we don't want / can't deal with (Rows with missing data)"
   ]
  },
  {
   "cell_type": "code",
   "execution_count": 1,
   "metadata": {},
   "outputs": [],
   "source": [
    "import csv "
   ]
  },
  {
   "cell_type": "code",
   "execution_count": 2,
   "metadata": {},
   "outputs": [],
   "source": [
    "f = open('Cleaning_Round_2.csv',encoding=\"UTF-8\")\n",
    "csv_f=csv.reader(f) \n",
    "\n",
    "def calculate_score(row_from_csv: list):\n",
    "    score = float()\n",
    "    i = 3\n",
    "    while i in range(3,9): \n",
    "        score = score +  float(row_from_csv[i])\n",
    "        i+=1\n",
    "    return round(score/7,2)\n",
    "\n",
    "data_with_score = []\n",
    "\n",
    "# Working out which rows have values we don't want / can't deal with (Rows with missing data)\n",
    "for row in csv_f:\n",
    "    # Calculating Score\n",
    "    score = calculate_score(row)\n",
    "    # Adding score to the iterated row\n",
    "    row.append(score)\n",
    "    # Add new row to data_with_score    \n",
    "    data_with_score.append(row)\n",
    "\n",
    "\n",
    "# Writing to our program\n",
    "with open('Cleaning_Round_3.csv', 'w', newline='') as f:\n",
    "    writer = csv.writer(f)\n",
    "    writer.writerows(data_with_score)"
   ]
  }
 ],
 "metadata": {
  "interpreter": {
   "hash": "d6ac9b94c2aea5094666a55dcf52ea582903ddc341d44ee341b44364e0b625c0"
  },
  "kernelspec": {
   "display_name": "Python 3.9.5 64-bit",
   "name": "python3"
  },
  "language_info": {
   "codemirror_mode": {
    "name": "ipython",
    "version": 3
   },
   "file_extension": ".py",
   "mimetype": "text/x-python",
   "name": "python",
   "nbconvert_exporter": "python",
   "pygments_lexer": "ipython3",
   "version": "3.9.5"
  },
  "orig_nbformat": 4
 },
 "nbformat": 4,
 "nbformat_minor": 2
}
